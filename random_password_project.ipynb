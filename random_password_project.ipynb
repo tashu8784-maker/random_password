{
  "nbformat": 4,
  "nbformat_minor": 0,
  "metadata": {
    "colab": {
      "provenance": []
    },
    "kernelspec": {
      "name": "python3",
      "display_name": "Python 3"
    },
    "language_info": {
      "name": "python"
    }
  },
  "cells": [
    {
      "cell_type": "code",
      "execution_count": null,
      "metadata": {
        "colab": {
          "base_uri": "https://localhost:8080/"
        },
        "id": "YBGX2voVXXxU",
        "outputId": "8aae333e-f0bd-497b-895e-6d7cfbc907ec"
      },
      "outputs": [
        {
          "output_type": "stream",
          "name": "stdout",
          "text": [
            "welcome to the password generator\n",
            "how many letters would you like in your password?\n",
            "8\n",
            "how many symbols would you like in your password?\n",
            "3\n",
            "how many numbers would you like in your password?\n",
            "2\n",
            "['u', 'Y', '6', '&', 'p', 'Y', 'S', '#', 'Z', 'H', '0', '+', 'O']\n"
          ]
        }
      ],
      "source": [
        "import random\n",
        "letters= ['a','b', 'c', 'd', 'e','f','g','h','i','j','k','l','m','n','o','p','q','r','s','t','u','v','w','x','y','z'\n",
        "          'A', 'B','C','D','E','F','G','H','I','J','K','L','M','N','O','P','Q','R','S','T','U','V','W','X','Y','Z']\n",
        "\n",
        "numbers= ['0','1','2','3','4','5','6','7','8','9']\n",
        "\n",
        "symbols= ['!','#','$','%','&','(',')','*','+']\n",
        "\n",
        "print(\"welcome to the password generator\")\n",
        "no_letters= int(input(\"how many letters would you like in your password?\\n\"))\n",
        "no_symbols= int(input(\"how many symbols would you like in your password?\\n\"))\n",
        "no_numbers= int(input(\"how many numbers would you like in your password?\\n\"))\n",
        "\n",
        "pass_list=[]\n",
        "\n",
        "for char in range(0, no_letters ):\n",
        "  pass_list.append(random.choice(letters))\n",
        "\n",
        "for char in range(0, no_symbols ):\n",
        "  pass_list.append(random.choice(symbols))\n",
        "\n",
        "for char in range(0, no_numbers ):\n",
        "  pass_list.append(random.choice(numbers))\n",
        "\n",
        "random.shuffle(pass_list)\n",
        "print(pass_list)"
      ]
    }
  ]
}